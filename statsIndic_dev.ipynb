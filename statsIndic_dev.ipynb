{
 "cells": [
  {
   "cell_type": "code",
   "execution_count": 2,
   "metadata": {},
   "outputs": [],
   "source": [
    "import matplotlib.pyplot as plt\n",
    "import numpy as np"
   ]
  },
  {
   "cell_type": "code",
   "execution_count": 4,
   "metadata": {},
   "outputs": [],
   "source": [
    "class Indicator:\n",
    "\n",
    "    currentConnectionNumber = 0\n",
    "    startStopMap = {}\n",
    "    levelHeightMap = {}\n",
    "    vLineStartMap = {}\n",
    "\n",
    "    def __init__(self,length,ax,artists,datarange):\n",
    "        # length represents the number of boxes, columns in array\n",
    "        self.datarange = datarange\n",
    "        self.grid = np.zeros((1,length))\n",
    "        self.baseHeights = self.getBaseHeight(artists)\n",
    "        self.calcHeightForLevel(0)\n",
    "    \n",
    "    def newConnections(self,connections):\n",
    "         for connection in connections:\n",
    "            self.newConnection(connection[0],connection[1])\n",
    "\n",
    "    def newConnection(self,start,stop):\n",
    "        # this checks if the space is avalible at the current height.\n",
    "        # If not create new row\n",
    "        # Also add the connection after check\n",
    "        currentLevel = 0\n",
    "        while any([pos for pos in self.grid[currentLevel][start:stop+1]]):\n",
    "                currentLevel += 1\n",
    "                if currentLevel == self.grid.shape[0]: self.addLevel(currentLevel)\n",
    "        self.startStopMap[self.currentConnectionNumber] = {\"start\":start,\"stop\":stop, \"level\":currentLevel}\n",
    "        self.addConnectionOnLevel(currentLevel,start,stop)\n",
    "        self.currentConnectionNumber += 1\n",
    "    \n",
    "    def addConnectionOnLevel(self,height,start,stop):\n",
    "        # this should block rows in self.grid according to passed positions\n",
    "        for i in range(start,stop+1):\n",
    "            self.grid[height][i] = self.currentConnectionNumber+1\n",
    "    \n",
    "    def addLevel(self,level):\n",
    "        # this simply adds a new Row\n",
    "        self.grid = np.vstack((self.grid, np.zeros((1,self.grid.shape[1]))))\n",
    "        self.calcHeightForLevel(level)\n",
    "\n",
    "    def calcHeightForLevel(self,level):\n",
    "        # this should calculate the height of each level on the axes\n",
    "        # The miniumum height for all connections on lvl 0 should be above all artist components\n",
    "        if level==0: self.levelHeightMap[level] = np.max(self.baseHeights) + self.datarange/10\n",
    "        else: self.levelHeightMap[level] = self.levelHeightMap[level-1] + self.datarange/10\n",
    "\n",
    "    def getBaseHeight(self,artists):\n",
    "        baseHeighs = []\n",
    "        upperWhiskers = [whisker for i,whisker in enumerate(artists[\"whiskers\"]) if i%2]\n",
    "        for flier,whisker in zip(artists[\"fliers\"],upperWhiskers):\n",
    "            flierHeight = flier.get_path().get_extents().y1\n",
    "            whiskerHeight = whisker.get_path().get_extents().y1\n",
    "            print(flierHeight,whiskerHeight)\n",
    "            baseHeighs.append(*[flierHeight if flierHeight != -np.inf else whiskerHeight])\n",
    "        return baseHeighs\n",
    "\n",
    "    def calcHeightForVlines(self):\n",
    "        # this puts the startheights of each vertical line in a second grid\n",
    "        # This is dependend on baseHeights and the height levels of the existing grid if a spot underneath is blocked\n",
    "        startHeightMap_levels = {level:{} for level in self.startStopMap}\n",
    "        startHeightMap = {level:{} for level in self.startStopMap}\n",
    "        for connectionIndex, connection in self.startStopMap.items():\n",
    "            for vLine in [connection[\"start\"],connection[\"stop\"]]:\n",
    "                level = connection[\"level\"]\n",
    "                while level != 0:\n",
    "                    if self.grid[level-1][vLine]:\n",
    "                        break\n",
    "                    level -= 1\n",
    "                startHeightMap_levels[connectionIndex][vLine] = level\n",
    "        for connectionIndex,connection in startHeightMap_levels.items():\n",
    "            for vLineX,level in connection.items():\n",
    "                if level == 0: \n",
    "                    startHeightMap[connectionIndex][vLineX] = self.baseHeights[vLineX]\n",
    "                else:\n",
    "                    startHeightMap[connectionIndex][vLineX] = self.levelHeightMap[level]-0.5\n",
    "        return startHeightMap\n",
    "\n",
    "\n",
    "    def drawConnection(self,ax,artists):\n",
    "        # this simply draws the connection\n",
    "        vLineStartHeight = self.calcHeightForVlines()\n",
    "        print(vLineStartHeight)\n",
    "        topWhiskers = [whisker for i,whisker in enumerate(artists[\"whiskers\"]) if i%2==0]\n",
    "        for connectionIndex, connection in self.startStopMap.items():\n",
    "            startX = topWhiskers[connection[\"start\"]].get_path().get_extents().x0\n",
    "            endX = topWhiskers[connection[\"stop\"]].get_path().get_extents().x0\n",
    "            height = self.levelHeightMap[connection[\"level\"]]\n",
    "            ax.plot([startX,endX],[height,height])\n",
    "            for boxIndex,conY in vLineStartHeight[connectionIndex].items():\n",
    "                # Change how X-Pos is calculated\n",
    "                ax.plot([boxIndex+1,boxIndex+1],[conY,height])\n",
    "            \n",
    "        "
   ]
  },
  {
   "cell_type": "code",
   "execution_count": 5,
   "metadata": {},
   "outputs": [
    {
     "name": "stdout",
     "output_type": "stream",
     "text": [
      "6.0 3.0\n",
      "-inf 2.0\n",
      "-inf 4.0\n",
      "5.0 2.0\n",
      "-inf 6.0\n",
      "-inf 3.0\n",
      "-inf 2.0\n",
      "-inf 5.0\n"
     ]
    },
    {
     "ename": "TypeError",
     "evalue": "slice indices must be integers or None or have an __index__ method",
     "output_type": "error",
     "traceback": [
      "\u001b[1;31m---------------------------------------------------------------------------\u001b[0m",
      "\u001b[1;31mTypeError\u001b[0m                                 Traceback (most recent call last)",
      "Cell \u001b[1;32mIn[5], line 15\u001b[0m\n\u001b[0;32m      3\u001b[0m artist \u001b[39m=\u001b[39m ax\u001b[39m.\u001b[39mboxplot([\n\u001b[0;32m      4\u001b[0m     [\u001b[39m-\u001b[39m\u001b[39m5\u001b[39m,\u001b[39m0\u001b[39m,\u001b[39m1\u001b[39m,\u001b[39m2\u001b[39m,\u001b[39m2\u001b[39m,\u001b[39m0\u001b[39m,\u001b[39m3\u001b[39m,\u001b[39m6\u001b[39m],\n\u001b[0;32m      5\u001b[0m     [\u001b[39m1\u001b[39m,\u001b[39m2\u001b[39m,\u001b[39m2\u001b[39m],\n\u001b[1;32m   (...)\u001b[0m\n\u001b[0;32m     11\u001b[0m     [\u001b[39m3\u001b[39m,\u001b[39m5\u001b[39m,\u001b[39m3\u001b[39m,\u001b[39m3\u001b[39m,\u001b[39m4\u001b[39m]\n\u001b[0;32m     12\u001b[0m ])\n\u001b[0;32m     14\u001b[0m ind \u001b[39m=\u001b[39m Indicator(\u001b[39mlen\u001b[39m(artist[\u001b[39m\"\u001b[39m\u001b[39mboxes\u001b[39m\u001b[39m\"\u001b[39m]),ax,artist,\u001b[39m10\u001b[39m)\n\u001b[1;32m---> 15\u001b[0m ind\u001b[39m.\u001b[39;49mnewConnections([\n\u001b[0;32m     16\u001b[0m     (\u001b[39m1\u001b[39;49m,\u001b[39m3\u001b[39;49m),\n\u001b[0;32m     17\u001b[0m     (\u001b[39m2\u001b[39;49m,\u001b[39m5.5\u001b[39;49m),\n\u001b[0;32m     18\u001b[0m     (\u001b[39m1\u001b[39;49m,\u001b[39m6\u001b[39;49m),\n\u001b[0;32m     19\u001b[0m     (\u001b[39m4\u001b[39;49m,\u001b[39m5\u001b[39;49m)\n\u001b[0;32m     20\u001b[0m ])\n\u001b[0;32m     21\u001b[0m \u001b[39mprint\u001b[39m(ind\u001b[39m.\u001b[39mgrid)\n\u001b[0;32m     22\u001b[0m \u001b[39mprint\u001b[39m(ind\u001b[39m.\u001b[39mlevelHeightMap)\n",
      "Cell \u001b[1;32mIn[4], line 17\u001b[0m, in \u001b[0;36mIndicator.newConnections\u001b[1;34m(self, connections)\u001b[0m\n\u001b[0;32m     15\u001b[0m \u001b[39mdef\u001b[39;00m \u001b[39mnewConnections\u001b[39m(\u001b[39mself\u001b[39m,connections):\n\u001b[0;32m     16\u001b[0m      \u001b[39mfor\u001b[39;00m connection \u001b[39min\u001b[39;00m connections:\n\u001b[1;32m---> 17\u001b[0m         \u001b[39mself\u001b[39;49m\u001b[39m.\u001b[39;49mnewConnection(connection[\u001b[39m0\u001b[39;49m],connection[\u001b[39m1\u001b[39;49m])\n",
      "Cell \u001b[1;32mIn[4], line 24\u001b[0m, in \u001b[0;36mIndicator.newConnection\u001b[1;34m(self, start, stop)\u001b[0m\n\u001b[0;32m     19\u001b[0m \u001b[39mdef\u001b[39;00m \u001b[39mnewConnection\u001b[39m(\u001b[39mself\u001b[39m,start,stop):\n\u001b[0;32m     20\u001b[0m     \u001b[39m# this checks if the space is avalible at the current height.\u001b[39;00m\n\u001b[0;32m     21\u001b[0m     \u001b[39m# If not create new row\u001b[39;00m\n\u001b[0;32m     22\u001b[0m     \u001b[39m# Also add the connection after check\u001b[39;00m\n\u001b[0;32m     23\u001b[0m     currentLevel \u001b[39m=\u001b[39m \u001b[39m0\u001b[39m\n\u001b[1;32m---> 24\u001b[0m     \u001b[39mwhile\u001b[39;00m \u001b[39many\u001b[39m([pos \u001b[39mfor\u001b[39;00m pos \u001b[39min\u001b[39;00m \u001b[39mself\u001b[39;49m\u001b[39m.\u001b[39;49mgrid[currentLevel][start:stop\u001b[39m+\u001b[39;49m\u001b[39m1\u001b[39;49m]]):\n\u001b[0;32m     25\u001b[0m             currentLevel \u001b[39m+\u001b[39m\u001b[39m=\u001b[39m \u001b[39m1\u001b[39m\n\u001b[0;32m     26\u001b[0m             \u001b[39mif\u001b[39;00m currentLevel \u001b[39m==\u001b[39m \u001b[39mself\u001b[39m\u001b[39m.\u001b[39mgrid\u001b[39m.\u001b[39mshape[\u001b[39m0\u001b[39m]: \u001b[39mself\u001b[39m\u001b[39m.\u001b[39maddLevel(currentLevel)\n",
      "\u001b[1;31mTypeError\u001b[0m: slice indices must be integers or None or have an __index__ method"
     ]
    },
    {
     "data": {
      "image/png": "[encoded data removed]",
      "text/plain": [
       "<Figure size 640x480 with 1 Axes>"
      ]
     },
     "metadata": {},
     "output_type": "display_data"
    }
   ],
   "source": [
    "fig = plt.figure()\n",
    "ax = fig.add_subplot()\n",
    "artist = ax.boxplot([\n",
    "    [-5,0,1,2,2,0,3,6],\n",
    "    [1,2,2],\n",
    "    [-2,4,3],\n",
    "    [1,2,2,2,1,5],\n",
    "    [0,4,6],\n",
    "    [1,2,3],\n",
    "    [-2,2,1],\n",
    "    [3,5,3,3,4]\n",
    "])\n",
    "\n",
    "ind = Indicator(len(artist[\"boxes\"]),ax,artist,10)\n",
    "ind.newConnections([\n",
    "    (1,3),\n",
    "    (2,5),\n",
    "    (1,6),\n",
    "    (4,5)\n",
    "])\n",
    "print(ind.grid)\n",
    "print(ind.levelHeightMap)\n",
    "print(ind.startStopMap)\n",
    "print(ind.baseHeights)\n",
    "ind.drawConnection(ax,artist)\n",
    "plt.show()"
   ]
  },
  {
   "cell_type": "code",
   "execution_count": 236,
   "metadata": {},
   "outputs": [
    {
     "data": {
      "text/plain": [
       "{0: 0.5,\n",
       " 1: 3.0,\n",
       " 2: 1.5,\n",
       " 3: 2.0,\n",
       " 4: 0.5,\n",
       " 5: 4.0,\n",
       " 6: 1.25,\n",
       " 7: 2.0,\n",
       " 8: 2.0,\n",
       " 9: 6.0,\n",
       " 10: 1.5,\n",
       " 11: 3.0,\n",
       " 12: -0.5,\n",
       " 13: 2.0,\n",
       " 14: 3.0,\n",
       " 15: 5.0}"
      ]
     },
     "execution_count": 236,
     "metadata": {},
     "output_type": "execute_result"
    }
   ],
   "source": [
    "{i:path.get_path().get_extents().y1 for i,path in enumerate(artist[\"whiskers\"])}"
   ]
  }
 ],
 "metadata": {
  "kernelspec": {
   "display_name": "Python 3",
   "language": "python",
   "name": "python3"
  },
  "language_info": {
   "codemirror_mode": {
    "name": "ipython",
    "version": 3
   },
   "file_extension": ".py",
   "mimetype": "text/x-python",
   "name": "python",
   "nbconvert_exporter": "python",
   "pygments_lexer": "ipython3",
   "version": "3.11.4"
  },
  "orig_nbformat": 4
 },
 "nbformat": 4,
 "nbformat_minor": 2
}
